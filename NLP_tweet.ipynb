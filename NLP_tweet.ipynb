{
 "cells": [
  {
   "cell_type": "markdown",
   "metadata": {},
   "source": [
    "# NLP with disaster tweets - Kaggle competition"
   ]
  },
  {
   "cell_type": "markdown",
   "metadata": {},
   "source": [
    "## Prepare the data"
   ]
  },
  {
   "cell_type": "code",
   "execution_count": 19,
   "metadata": {},
   "outputs": [],
   "source": [
    "import torch\n",
    "import torch.nn as nn \n",
    "import torch.nn.functional as F\n",
    "from torchtext.data import get_tokenizer\n",
    "import pandas as pd\n",
    "\n",
    "# Global variable\n",
    "DEVICE = torch.device(\"cuda\") if torch.cuda.is_available() else \"cpu\"\n",
    "BLOCK_SIZE = 75 # max size of a tokenized tweets for train and test = 74\n",
    "WTOI = {} # Words to integer: will be filled up later\n",
    "TOKENIZER = get_tokenizer(\"basic_english\")\n",
    "BATCH_SIZE = 32\n",
    "VOCAB_SIZE = 0\n",
    "N_EMBD = 32\n",
    "\n",
    "# load the dataset\n",
    "path_train = \"datasets/train.csv\"\n",
    "path_test = \"datasets/test.csv\"\n",
    "df_train = pd.read_csv(filepath_or_buffer=path_train)\n",
    "df_test = pd.read_csv(filepath_or_buffer=path_test)\n",
    "df_train = df_train.sample(frac=1, random_state=42) # suffle the train datasets before creating a dev subset\n",
    "train_tweets = df_train[\"text\"]\n",
    "test_tweets = df_test[\"text\"]\n",
    "first_tweet = train_tweets[0] # for experimentation, can be deleted later TODO\n",
    "\n",
    "\n",
    "def tweetTokeniser(tweets, tokenizer=TOKENIZER):\n",
    "\t'''create a list of tokens from a tweet'''\n",
    "\ttokens = [] \n",
    "\tfor tweet in tweets:\n",
    "\t\ttokens += tokenizer(tweet)\n",
    "\treturn tokens\n",
    "\n",
    "\n",
    "def createEncodingDictionary(tweets=train_tweets):\n",
    "\t'''create a dictionary of all the tokens appearing at least two times in the tweets'''\n",
    "\ttokens = tweetTokeniser(tweets)\n",
    "\twtoi, buffer = {}, {}\n",
    "\tidx = 2\n",
    "\tfor i, w in enumerate(tokens):\n",
    "\t\tif w in buffer:\n",
    "\t\t\twtoi[w] = idx\n",
    "\t\t\tidx += 1\n",
    "\t\telse:\n",
    "\t\t\tbuffer[w] = 1\n",
    "\twtoi[\"UNKNOWN\"] = 0 # to deal with words not seen in train set\n",
    "\twtoi[\"EMPTY\"] = 1 # to make all train_tweets the same length\n",
    "\t\n",
    "\treturn wtoi, idx\n",
    "\n",
    "WTOI, VOCAB_SIZE = createEncodingDictionary(tweets=train_tweets) # update the dictionary\n",
    "\n",
    "def tweetEncoder(tweet:list, wtoi=WTOI):\n",
    "\t'''helper function to tansform each token in a tweet to a unique integer'''\n",
    "\ttokens = tweetTokeniser([tweet])\n",
    "\tfor i in range(len(tokens)):\n",
    "\t\ttokens[i] = wtoi[tokens[i]] if tokens[i] in wtoi else 0\n",
    "\treturn tokens\n",
    "\n",
    "# create a pandas serie with these encoding for each tweet\n",
    "x_train = train_tweets.apply(lambda tweet: tweetEncoder(tweet))\n",
    "y_train = df_train[\"target\"]\n",
    "x_test = test_tweets.apply((lambda tweet:tweetEncoder(tweet)))\n",
    "y_test = []\n",
    "\n",
    "# standardize the length of a tweet\n",
    "def standardizeBlockSize(block_size = BLOCK_SIZE, x_train = x_train, x_test = x_test):\n",
    "\tfor tweet in x_train:\n",
    "\t\tdelta = block_size - len(tweet)\n",
    "\t\ttail = [1]*delta\n",
    "\t\ttweet += tail\n",
    "\t\n",
    "\tfor tweet in x_test:\n",
    "\t\tdelta = block_size - len(tweet)\n",
    "\t\ttail = [1]*delta\n",
    "\t\ttweet += tail\n",
    "\n",
    "\treturn x_train, x_test\n",
    "\n",
    "def trainAndDevDatasets(x=x_train, y=y_train, train_size = 0.85):\n",
    "\tl = len(x)\n",
    "\tn = int(l*train_size)\n",
    "\tx_train, x_dev, y_train, y_dev = x[:n], x[n:], y[:n], y[n:]\n",
    "\treturn x_train, x_dev, y_train, y_dev\n",
    "\n",
    "x, x_test = standardizeBlockSize()\n",
    "x_train, x_dev, y_train, y_dev = trainAndDevDatasets(x=x, train_size=0.85)\n",
    "\n",
    "# cast to tensor\n",
    "make_tensor = lambda x: torch.tensor(data=list(x.values), dtype=int)\n",
    "x_train = make_tensor(x_train)\n",
    "y_train = make_tensor(y_train)\n",
    "x_dev = make_tensor(x_dev)\n",
    "y_dev = make_tensor(y_dev)\n",
    "x_test = make_tensor(x_test)\n"
   ]
  },
  {
   "cell_type": "markdown",
   "metadata": {},
   "source": [
    "## Define the model"
   ]
  },
  {
   "cell_type": "markdown",
   "metadata": {},
   "source": [
    "### Helper functions"
   ]
  },
  {
   "cell_type": "code",
   "execution_count": 20,
   "metadata": {},
   "outputs": [],
   "source": [
    "def get_batch(mode=\"train\"):\n",
    "    '''Return input and target tensor of size BATCH_SIZE'''\n",
    "    if mode == \"train\":\n",
    "        x, y = x_train, y_train\n",
    "    else:\n",
    "        x, y = x_dev, y_dev\n",
    "    l = len(x)\n",
    "    ix = torch.randint(high=l, size=(BATCH_SIZE,))\n",
    "    return x[ix], y[ix]\n",
    "\n",
    "@torch.no_grad()\n",
    "def estimateLoss(model):\n",
    "    '''Evaluate the loss of the model on the train set and on the dev set'''\n",
    "    out = {}\n",
    "    model.eval()\n",
    "    # TODO write eval function here (depends on the configuration of the model)\n",
    "    model.train()\n",
    "    return out\n",
    "\n"
   ]
  },
  {
   "cell_type": "markdown",
   "metadata": {},
   "source": [
    "### Structure the model"
   ]
  },
  {
   "cell_type": "code",
   "execution_count": 31,
   "metadata": {},
   "outputs": [
    {
     "data": {
      "text/plain": [
       "tensor([[[-4.2053, -4.0426],\n",
       "         [-4.4571, -4.3774],\n",
       "         [-4.3473, -4.1083],\n",
       "         ...,\n",
       "         [-4.3166, -4.3298],\n",
       "         [-4.3166, -4.3298],\n",
       "         [-4.3166, -4.3298]],\n",
       "\n",
       "        [[-4.3774, -4.1504],\n",
       "         [-4.4331, -4.3083],\n",
       "         [-4.2418, -4.1950],\n",
       "         ...,\n",
       "         [-4.3117, -4.3258],\n",
       "         [-4.3117, -4.3258],\n",
       "         [-4.3117, -4.3258]],\n",
       "\n",
       "        [[-4.2171, -4.3999],\n",
       "         [-4.6820, -4.3367],\n",
       "         [-4.2385, -4.3967],\n",
       "         ...,\n",
       "         [-4.3712, -4.3394],\n",
       "         [-4.3712, -4.3394],\n",
       "         [-4.3712, -4.3394]],\n",
       "\n",
       "        ...,\n",
       "\n",
       "        [[-4.3186, -4.2245],\n",
       "         [-4.4176, -4.2807],\n",
       "         [-4.4623, -4.8846],\n",
       "         ...,\n",
       "         [-4.3478, -4.3182],\n",
       "         [-4.3478, -4.3182],\n",
       "         [-4.3478, -4.3182]],\n",
       "\n",
       "        [[-4.1887, -4.3387],\n",
       "         [-4.4947, -4.0986],\n",
       "         [-4.1336, -4.2748],\n",
       "         ...,\n",
       "         [-4.3281, -4.3250],\n",
       "         [-4.3281, -4.3250],\n",
       "         [-4.3281, -4.3250]],\n",
       "\n",
       "        [[-4.4639, -4.5404],\n",
       "         [-4.1991, -4.5157],\n",
       "         [-4.6882, -4.0344],\n",
       "         ...,\n",
       "         [-4.3287, -4.3691],\n",
       "         [-4.3287, -4.3691],\n",
       "         [-4.3287, -4.3691]]], grad_fn=<LogSoftmaxBackward0>)"
      ]
     },
     "execution_count": 31,
     "metadata": {},
     "output_type": "execute_result"
    }
   ],
   "source": [
    "# class Head(nn.Module()):\n",
    "#    '''single head of attention'''\n",
    "\n",
    "class MLP(nn.Module):\n",
    "\t'''A simple MLP, to be used as a baseline'''\n",
    "\tdef __init__(self, numNeurons=1000) -> None:\n",
    "\t\tsuper().__init__()\n",
    "\t\tself.tokenEmbedding = nn.Embedding(num_embeddings=VOCAB_SIZE, embedding_dim=N_EMBD)\n",
    "\t\t# self.posEmbedding = nn.Embedding(num_embeddings=BLOCK_SIZE, embedding_dim=N_EMBD)\n",
    "\t\tself.linear1 = nn.Linear(in_features=N_EMBD, out_features=numNeurons, bias=True)\n",
    "\t\t# self.batchNorm = nn.LayerNorm(normalized_shape=2)\n",
    "\t\tself.linear2 = nn.Linear(in_features=numNeurons, out_features=2, bias=True)\n",
    "\t\n",
    "\tdef forward(self, x):\n",
    "\t\t# x = self.posEmbedding(x) + self.posEmbedding(x)\n",
    "\t\tx = self.tokenEmbedding(x)\n",
    "\t\tx = self.linear1(x)\n",
    "\t\tx = F.relu(x)\n",
    "\t\tx = self.linear2(x)\n",
    "\t\t# x = self.batchNorm(x)\n",
    "\t\t\n",
    "\t\toutput = F.log_softmax(x, dim=1)\n",
    "\t\treturn output\n",
    "\t\t\n",
    "model = MLP()\n",
    "x1, y1 = get_batch()\n",
    "model(x1)"
   ]
  },
  {
   "cell_type": "code",
   "execution_count": 23,
   "metadata": {},
   "outputs": [
    {
     "name": "stdout",
     "output_type": "stream",
     "text": [
      "training on: cpu\n"
     ]
    },
    {
     "data": {
      "text/plain": [
       "tensor([18, 47, 56, 57, 58,  1, 15, 47, 58, 47])"
      ]
     },
     "execution_count": 23,
     "metadata": {},
     "output_type": "execute_result"
    }
   ],
   "source": [
    "\"\"\"import libraries and data\"\"\"\n",
    "# import necessary libraries\n",
    "import torch\n",
    "import torch.nn as nn\n",
    "import torch.nn.functional as F\n",
    "\n",
    "torch.manual_seed(1337)\n",
    "\n",
    "# load the data\n",
    "# path = \"datasets/tinyshakespear.txt\"\n",
    "path = \"/Users/sylvain/Data_Science/Projects/nanoGPT/datasets/tinyshakespear.txt\"\n",
    "# path = \"https://raw.githubusercontent.com/karpathy/char-rnn/master/data/tinyshakespeare/input.txt\"\n",
    "with open(file=path, mode=\"r\", encoding=\"utf-8\") as file:\n",
    "    text = file.read()\n",
    "\n",
    "# create the encoder and decoder\n",
    "chars = sorted(list(set(text)))\n",
    "vocab_size = len(chars)\n",
    "stoi = {c: i for i, c in enumerate(chars)}\n",
    "itos = {i: c for i, c in enumerate(chars)}\n",
    "encode = lambda s: [stoi[c] for c in s]\n",
    "decode = lambda s: \"\".join([itos[i] for i in s])\n",
    "decode(encode(\"salut\"))\n",
    "\n",
    "# activate GPU if available\n",
    "device = \"cpu\"\n",
    "if torch.cuda.is_available():\n",
    "    device = \"cuda\"\n",
    "# if torch.backends.mps.is_available():\n",
    "#     device = \"mps\"\n",
    "\n",
    "print(f\"training on: {device}\")\n",
    "# create the datasets\n",
    "data = torch.tensor(data=encode(text), dtype=torch.int64)\n",
    "n = int(len(data)) // 10 * 9\n",
    "train_data = data[:n]\n",
    "val_data = data[n:]\n",
    "\n",
    "train_data[:10]"
   ]
  },
  {
   "cell_type": "code",
   "execution_count": null,
   "metadata": {},
   "outputs": [],
   "source": []
  }
 ],
 "metadata": {
  "kernelspec": {
   "display_name": ".venv",
   "language": "python",
   "name": "python3"
  },
  "language_info": {
   "codemirror_mode": {
    "name": "ipython",
    "version": 3
   },
   "file_extension": ".py",
   "mimetype": "text/x-python",
   "name": "python",
   "nbconvert_exporter": "python",
   "pygments_lexer": "ipython3",
   "version": "3.10.7"
  },
  "orig_nbformat": 4
 },
 "nbformat": 4,
 "nbformat_minor": 2
}
