{
 "cells": [
  {
   "cell_type": "markdown",
   "metadata": {},
   "source": [
    "# NLP with disaster tweets - Kaggle competition"
   ]
  },
  {
   "cell_type": "markdown",
   "metadata": {},
   "source": [
    "## Prepare the data"
   ]
  },
  {
   "cell_type": "code",
   "execution_count": 143,
   "metadata": {},
   "outputs": [
    {
     "data": {
      "text/plain": [
       "torch.Size([6471, 75])"
      ]
     },
     "execution_count": 143,
     "metadata": {},
     "output_type": "execute_result"
    }
   ],
   "source": [
    "import torch\n",
    "import torch.nn as nn \n",
    "import torch.nn.functional as F\n",
    "from torchtext.data import get_tokenizer\n",
    "import pandas as pd\n",
    "\n",
    "# Global variable\n",
    "DEVICE = torch.device(\"cuda\") if torch.cuda.is_available() else \"cpu\"\n",
    "BLOCK_SIZE = 75 # max size of a tokenized tweets for train and test = 74\n",
    "WTOI = {} # Words to integer: will be filled up later\n",
    "TOKENIZER = get_tokenizer(\"basic_english\")\n",
    "BATCH_SIZE = 32\n",
    "\n",
    "# load the dataset\n",
    "path_train = \"datasets/train.csv\"\n",
    "path_test = \"datasets/test.csv\"\n",
    "df_train = pd.read_csv(filepath_or_buffer=path_train)\n",
    "df_test = pd.read_csv(filepath_or_buffer=path_test)\n",
    "df_train = df_train.sample(frac=1, random_state=42) # suffle the train datasets before creating a dev subset\n",
    "train_tweets = df_train[\"text\"]\n",
    "test_tweets = df_test[\"text\"]\n",
    "first_tweet = train_tweets[0] # for experimentation, can be deleted later TODO\n",
    "\n",
    "\n",
    "def tweetTokeniser(tweets, tokenizer=TOKENIZER):\n",
    "\t'''create a list of tokens from a tweet'''\n",
    "\ttokens = [] \n",
    "\tfor tweet in tweets:\n",
    "\t\ttokens += tokenizer(tweet)\n",
    "\treturn tokens\n",
    "\n",
    "\n",
    "def createEncodingDictionary(tweets=train_tweets):\n",
    "\t'''create a dictionary of all the tokens appearing at least two times in the tweets'''\n",
    "\ttokens = tweetTokeniser(tweets)\n",
    "\twtoi, buffer = {}, {}\n",
    "\tidx = 2\n",
    "\tfor i, w in enumerate(tokens):\n",
    "\t\tif w in buffer:\n",
    "\t\t\twtoi[w] = idx\n",
    "\t\t\tidx += 1\n",
    "\t\telse:\n",
    "\t\t\tbuffer[w] = 1\n",
    "\twtoi[\"UNKNOWN\"] = 0 # to deal with words not seen in train set\n",
    "\twtoi[\"EMPTY\"] = 1 # to make all train_tweets the same length\n",
    "\treturn wtoi\n",
    "\n",
    "WTOI = createEncodingDictionary(tweets=train_tweets) # update the dictionary\n",
    "\n",
    "def tweetEncoder(tweet:list, wtoi=WTOI):\n",
    "\t'''helper function to tansform each token in a tweet to a unique integer'''\n",
    "\ttokens = tweetTokeniser([tweet])\n",
    "\tfor i in range(len(tokens)):\n",
    "\t\ttokens[i] = wtoi[tokens[i]] if tokens[i] in wtoi else 0\n",
    "\treturn tokens\n",
    "\n",
    "# create a pandas serie with these encoding for each tweet\n",
    "x_train = train_tweets.apply(lambda tweet: tweetEncoder(tweet))\n",
    "y_train = df_train[\"target\"]\n",
    "x_test = test_tweets.apply((lambda tweet:tweetEncoder(tweet)))\n",
    "y_test = []\n",
    "\n",
    "# standardize the length of a tweet\n",
    "def standardizeBlockSize(block_size = BLOCK_SIZE, x_train = x_train, x_test = x_test):\n",
    "\tfor tweet in x_train:\n",
    "\t\tdelta = block_size - len(tweet)\n",
    "\t\ttail = [1]*delta\n",
    "\t\ttweet += tail\n",
    "\t\n",
    "\tfor tweet in x_test:\n",
    "\t\tdelta = block_size - len(tweet)\n",
    "\t\ttail = [1]*delta\n",
    "\t\ttweet += tail\n",
    "\n",
    "\treturn x_train, x_test\n",
    "\n",
    "def trainAndDevDatasets(x=x_train, y=y_train, train_size = 0.85):\n",
    "\tl = len(x)\n",
    "\tn = int(l*train_size)\n",
    "\tx_train, x_dev, y_train, y_dev = x[:n], x[n:], y[:n], y[n:]\n",
    "\treturn x_train, x_dev, y_train, y_dev\n",
    "\n",
    "x, x_test = standardizeBlockSize()\n",
    "x_train, x_dev, y_train, y_dev = trainAndDevDatasets(x=x, train_size=0.85)\n",
    "\n",
    "# cast to tensor\n",
    "make_tensor = lambda x: torch.tensor(data=list(x.values), dtype=torch.float32)\n",
    "x_train = make_tensor(x_train)\n",
    "y_train = make_tensor(y_train)\n",
    "x_dev = make_tensor(x_dev)\n",
    "y_dev = make_tensor(y_dev)\n",
    "x_test = make_tensor(x_test)\n",
    "x_train.shape"
   ]
  },
  {
   "cell_type": "markdown",
   "metadata": {},
   "source": [
    "## Define the model"
   ]
  },
  {
   "cell_type": "markdown",
   "metadata": {},
   "source": [
    "### Helper functions"
   ]
  },
  {
   "cell_type": "code",
   "execution_count": 142,
   "metadata": {},
   "outputs": [
    {
     "data": {
      "text/plain": [
       "torch.Size([32, 75])"
      ]
     },
     "execution_count": 142,
     "metadata": {},
     "output_type": "execute_result"
    }
   ],
   "source": [
    "def get_batch(mode=\"train\"):\n",
    "    '''Return input and target tensor of size BATCH_SIZE'''\n",
    "    if mode == \"train\":\n",
    "        x, y = x_train, y_train\n",
    "    else:\n",
    "        x, y = x_dev, y_dev\n",
    "    l = len(x)\n",
    "    ix = torch.randint(high=l, size=(BATCH_SIZE,))\n",
    "    return x[ix], y[ix]\n",
    "\n",
    "@torch.nograd()\n",
    "def estimateLoss(model):\n",
    "    '''Evaluate the loss of the model on the train set and on the dev set'''\n",
    "    out = {}\n",
    "    model.eval()\n",
    "    # TODO write eval function here (depends on the configuration of the model)\n",
    "    model.train()\n",
    "    return out\n",
    "\n"
   ]
  },
  {
   "cell_type": "markdown",
   "metadata": {},
   "source": [
    "### Structure the model"
   ]
  },
  {
   "cell_type": "code",
   "execution_count": null,
   "metadata": {},
   "outputs": [],
   "source": [
    "# class Head(nn.Module()):\n",
    "#    '''single head of attention'''\n",
    "\n",
    "class MLP(nn.Module):\n",
    "\t'''A simple MLP, to be used as a baseline'''\n",
    "\tdef __init__(self, numNeurons=1000) -> None:\n",
    "\t\tsuper().__init__()\n",
    "\t\tself.linear1 = nn.Linear(in_features=BLOCK_SIZE, out_features=numNeurons, bias=True)\n",
    "\t\tself.linear2 = nn.Linear(in_features=BLOCK_SIZE, out_features=numNeurons, bias=True)\n",
    "\t\n",
    "\tdef forward()\n",
    "\t\t"
   ]
  }
 ],
 "metadata": {
  "kernelspec": {
   "display_name": ".venv",
   "language": "python",
   "name": "python3"
  },
  "language_info": {
   "codemirror_mode": {
    "name": "ipython",
    "version": 3
   },
   "file_extension": ".py",
   "mimetype": "text/x-python",
   "name": "python",
   "nbconvert_exporter": "python",
   "pygments_lexer": "ipython3",
   "version": "3.10.7"
  },
  "orig_nbformat": 4
 },
 "nbformat": 4,
 "nbformat_minor": 2
}
