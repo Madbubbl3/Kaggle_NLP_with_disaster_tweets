{
 "cells": [
  {
   "cell_type": "markdown",
   "metadata": {},
   "source": [
    "# NLP with disaster tweets - Kaggle competition"
   ]
  },
  {
   "cell_type": "markdown",
   "metadata": {},
   "source": [
    "## Prepare the data"
   ]
  },
  {
   "cell_type": "code",
   "execution_count": 42,
   "metadata": {},
   "outputs": [],
   "source": [
    "import torch\n",
    "import torch.nn as nn \n",
    "import torch.nn.functional as F\n",
    "from torchtext.data import get_tokenizer\n",
    "import pandas as pd\n",
    "\n",
    "# Global variable\n",
    "DEVICE = torch.device(\"cuda\") if torch.cuda.is_available() else \"cpu\"\n",
    "BLOCK_SIZE = 75 # max size of a tokenized tweets for train and test = 74\n",
    "WTOI = {} # Words to integer: will be filled up later\n",
    "TOKENIZER = get_tokenizer(\"basic_english\")\n",
    "BATCH_SIZE = 32\n",
    "VOCAB_SIZE = 0\n",
    "N_EMBD = 32\n",
    "LEARNING_RATE = 1e-3\n",
    "STEPS = 200\n",
    "\n",
    "# load the dataset\n",
    "path_train = \"datasets/train.csv\"\n",
    "path_test = \"datasets/test.csv\"\n",
    "df_train = pd.read_csv(filepath_or_buffer=path_train)\n",
    "df_test = pd.read_csv(filepath_or_buffer=path_test)\n",
    "df_train = df_train.sample(frac=1, random_state=42) # suffle the train datasets before creating a dev subset\n",
    "train_tweets = df_train[\"text\"]\n",
    "test_tweets = df_test[\"text\"]\n",
    "first_tweet = train_tweets[0] # for experimentation, can be deleted later TODO\n",
    "\n",
    "\n",
    "def tweetTokeniser(tweets, tokenizer=TOKENIZER):\n",
    "\t'''create a list of tokens from a tweet'''\n",
    "\ttokens = [] \n",
    "\tfor tweet in tweets:\n",
    "\t\ttokens += tokenizer(tweet)\n",
    "\treturn tokens\n",
    "\n",
    "\n",
    "def createEncodingDictionary(tweets=train_tweets):\n",
    "\t'''create a dictionary of all the tokens appearing at least two times in the tweets'''\n",
    "\ttokens = tweetTokeniser(tweets)\n",
    "\twtoi, buffer = {}, {}\n",
    "\tidx = 2\n",
    "\tfor i, w in enumerate(tokens):\n",
    "\t\tif w in buffer:\n",
    "\t\t\twtoi[w] = idx\n",
    "\t\t\tidx += 1\n",
    "\t\telse:\n",
    "\t\t\tbuffer[w] = 1\n",
    "\twtoi[\"UNKNOWN\"] = 0 # to deal with words not seen in train set\n",
    "\twtoi[\"EMPTY\"] = 1 # to make all train_tweets the same length\n",
    "\t\n",
    "\treturn wtoi, idx\n",
    "\n",
    "WTOI, VOCAB_SIZE = createEncodingDictionary(tweets=train_tweets) # update the dictionary\n",
    "\n",
    "def tweetEncoder(tweet:list, wtoi=WTOI):\n",
    "\t'''helper function to tansform each token in a tweet to a unique integer'''\n",
    "\ttokens = tweetTokeniser([tweet])\n",
    "\tfor i in range(len(tokens)):\n",
    "\t\ttokens[i] = wtoi[tokens[i]] if tokens[i] in wtoi else 0\n",
    "\treturn tokens\n",
    "\n",
    "# create a pandas serie with these encoding for each tweet\n",
    "x_train = train_tweets.apply(lambda tweet: tweetEncoder(tweet))\n",
    "y_train = df_train[\"target\"]\n",
    "x_test = test_tweets.apply((lambda tweet:tweetEncoder(tweet)))\n",
    "y_test = []\n",
    "\n",
    "# standardize the length of a tweet\n",
    "def standardizeBlockSize(block_size = BLOCK_SIZE, x_train = x_train, x_test = x_test):\n",
    "\tfor tweet in x_train:\n",
    "\t\tdelta = block_size - len(tweet)\n",
    "\t\ttail = [1]*delta\n",
    "\t\ttweet += tail\n",
    "\t\n",
    "\tfor tweet in x_test:\n",
    "\t\tdelta = block_size - len(tweet)\n",
    "\t\ttail = [1]*delta\n",
    "\t\ttweet += tail\n",
    "\n",
    "\treturn x_train, x_test\n",
    "\n",
    "def trainAndDevDatasets(x=x_train, y=y_train, train_size = 0.85):\n",
    "\tl = len(x)\n",
    "\tn = int(l*train_size)\n",
    "\tx_train, x_dev, y_train, y_dev = x[:n], x[n:], y[:n], y[n:]\n",
    "\treturn x_train, x_dev, y_train, y_dev\n",
    "\n",
    "x, x_test = standardizeBlockSize()\n",
    "x_train, x_dev, y_train, y_dev = trainAndDevDatasets(x=x, train_size=0.85)\n",
    "\n",
    "# cast to tensor\n",
    "make_tensor = lambda x: torch.tensor(data=list(x.values), dtype=int)\n",
    "x_train = make_tensor(x_train)\n",
    "y_train = make_tensor(y_train)\n",
    "x_dev = make_tensor(x_dev)\n",
    "y_dev = make_tensor(y_dev)\n",
    "x_test = make_tensor(x_test)\n"
   ]
  },
  {
   "cell_type": "markdown",
   "metadata": {},
   "source": [
    "## Define the model"
   ]
  },
  {
   "cell_type": "markdown",
   "metadata": {},
   "source": [
    "### Helper functions"
   ]
  },
  {
   "cell_type": "code",
   "execution_count": 43,
   "metadata": {},
   "outputs": [],
   "source": [
    "def get_batch(mode=\"train\"):\n",
    "    '''Return input and target tensor of size BATCH_SIZE'''\n",
    "    if mode == \"train\":\n",
    "        x, y = x_train, y_train\n",
    "    else:\n",
    "        x, y = x_dev, y_dev\n",
    "    l = len(x)\n",
    "    ix = torch.randint(high=l, size=(BATCH_SIZE,))\n",
    "    return x[ix], y[ix]\n",
    "\n",
    "@torch.no_grad()\n",
    "def estimateLoss(model):\n",
    "    '''Evaluate the loss of the model on the train set and on the dev set'''\n",
    "    out = {}\n",
    "    model.eval()\n",
    "    # TODO write eval function here (depends on the configuration of the model)\n",
    "    model.train()\n",
    "    return out\n",
    "\n"
   ]
  },
  {
   "cell_type": "markdown",
   "metadata": {},
   "source": [
    "### Structure the model"
   ]
  },
  {
   "cell_type": "code",
   "execution_count": 88,
   "metadata": {},
   "outputs": [],
   "source": [
    "# class Head(nn.Module()):\n",
    "#    '''single head of attention'''\n",
    "\n",
    "class MLP(nn.Module):\n",
    "\t'''A simple MLP, to be used as a baseline'''\n",
    "\tdef __init__(self, numNeurons=1000) -> None:\n",
    "\t\tsuper().__init__()\n",
    "\t\tself.tokenEmbedding = nn.Embedding(num_embeddings=VOCAB_SIZE, embedding_dim=N_EMBD)\n",
    "\t\t# self.posEmbedding = nn.Embedding(num_embeddings=BLOCK_SIZE, embedding_dim=N_EMBD)\n",
    "\t\tself.linear1 = nn.Linear(in_features=N_EMBD, out_features=numNeurons, bias=True)\n",
    "\t\t# self.batchNorm = nn.LayerNorm(normalized_shape=2)\n",
    "\t\tself.linear2 = nn.Linear(in_features=numNeurons, out_features=1, bias=True)\n",
    "\t\tself.logits = nn.Linear(in_features=BLOCK_SIZE, out_features=1, bias=True)\n",
    "\t\n",
    "\tdef forward(self, x):\n",
    "\t\t# x = self.posEmbedding(x) + self.posEmbedding(x)\n",
    "\t\tB, C = x.shape\n",
    "\t\tprint(B, C)\n",
    "\t\tx = self.tokenEmbedding(x)\n",
    "\t\tx = self.linear1(x)\n",
    "\t\tx = F.relu(x)\n",
    "\t\tx = self.linear2(x)\n",
    "\t\tx = F.relu(x)\n",
    "\t\tx = x.view(BATCH_SIZE, BLOCK_SIZE)\n",
    "\t\tx = self.logits(x).view(-1)\n",
    "\t\tx = torch.exp(x)\n",
    "\t\t# x = x.view(BATCH_SIZE)\n",
    "\t\t# output = F.log_softmax(input=x, dim=1)\n",
    "\t\t# output = output.view(-1)\n",
    "\t\t# x = self.batchNorm(x)\n",
    "\t\t\n",
    "\t\t# output = F.log_softmax(x, dim=2)\n",
    "\t\t# output = self.\n",
    "\t\treturn x\n",
    "\t\t# return output\n",
    "\n",
    "# instanciate the model\n",
    "model = MLP()\n"
   ]
  },
  {
   "cell_type": "markdown",
   "metadata": {},
   "source": [
    "## Optimize the model"
   ]
  },
  {
   "cell_type": "code",
   "execution_count": 90,
   "metadata": {},
   "outputs": [
    {
     "name": "stdout",
     "output_type": "stream",
     "text": [
      "32 75\n",
      "32 75\n"
     ]
    },
    {
     "ename": "RuntimeError",
     "evalue": "Expected floating point type for target with class probabilities, got Long",
     "output_type": "error",
     "traceback": [
      "\u001b[0;31m---------------------------------------------------------------------------\u001b[0m",
      "\u001b[0;31mRuntimeError\u001b[0m                              Traceback (most recent call last)",
      "Cell \u001b[0;32mIn[90], line 14\u001b[0m\n\u001b[1;32m     12\u001b[0m \u001b[39m# model(x1)\u001b[39;00m\n\u001b[1;32m     13\u001b[0m yhat \u001b[39m=\u001b[39m model(x1)\n\u001b[0;32m---> 14\u001b[0m loss \u001b[39m=\u001b[39m lossFunction(yhat, y1)\n\u001b[1;32m     15\u001b[0m \u001b[39m# yhat.shape\u001b[39;00m\n\u001b[1;32m     16\u001b[0m \u001b[39mprint\u001b[39m(\u001b[39mf\u001b[39m\u001b[39m\"\u001b[39m\u001b[39mshape of yhat = \u001b[39m\u001b[39m{\u001b[39;00myhat\u001b[39m.\u001b[39mshape\u001b[39m}\u001b[39;00m\u001b[39m, shape of y1 = \u001b[39m\u001b[39m{\u001b[39;00my1\u001b[39m.\u001b[39mshape\u001b[39m}\u001b[39;00m\u001b[39m\"\u001b[39m)\n",
      "File \u001b[0;32m~/Data_Science/Kaggle/NLP_with_disaster_tweets/.venv/lib/python3.10/site-packages/torch/nn/modules/module.py:1501\u001b[0m, in \u001b[0;36mModule._call_impl\u001b[0;34m(self, *args, **kwargs)\u001b[0m\n\u001b[1;32m   1496\u001b[0m \u001b[39m# If we don't have any hooks, we want to skip the rest of the logic in\u001b[39;00m\n\u001b[1;32m   1497\u001b[0m \u001b[39m# this function, and just call forward.\u001b[39;00m\n\u001b[1;32m   1498\u001b[0m \u001b[39mif\u001b[39;00m \u001b[39mnot\u001b[39;00m (\u001b[39mself\u001b[39m\u001b[39m.\u001b[39m_backward_hooks \u001b[39mor\u001b[39;00m \u001b[39mself\u001b[39m\u001b[39m.\u001b[39m_backward_pre_hooks \u001b[39mor\u001b[39;00m \u001b[39mself\u001b[39m\u001b[39m.\u001b[39m_forward_hooks \u001b[39mor\u001b[39;00m \u001b[39mself\u001b[39m\u001b[39m.\u001b[39m_forward_pre_hooks\n\u001b[1;32m   1499\u001b[0m         \u001b[39mor\u001b[39;00m _global_backward_pre_hooks \u001b[39mor\u001b[39;00m _global_backward_hooks\n\u001b[1;32m   1500\u001b[0m         \u001b[39mor\u001b[39;00m _global_forward_hooks \u001b[39mor\u001b[39;00m _global_forward_pre_hooks):\n\u001b[0;32m-> 1501\u001b[0m     \u001b[39mreturn\u001b[39;00m forward_call(\u001b[39m*\u001b[39;49margs, \u001b[39m*\u001b[39;49m\u001b[39m*\u001b[39;49mkwargs)\n\u001b[1;32m   1502\u001b[0m \u001b[39m# Do not call functions when jit is used\u001b[39;00m\n\u001b[1;32m   1503\u001b[0m full_backward_hooks, non_full_backward_hooks \u001b[39m=\u001b[39m [], []\n",
      "File \u001b[0;32m~/Data_Science/Kaggle/NLP_with_disaster_tweets/.venv/lib/python3.10/site-packages/torch/nn/modules/loss.py:1174\u001b[0m, in \u001b[0;36mCrossEntropyLoss.forward\u001b[0;34m(self, input, target)\u001b[0m\n\u001b[1;32m   1173\u001b[0m \u001b[39mdef\u001b[39;00m \u001b[39mforward\u001b[39m(\u001b[39mself\u001b[39m, \u001b[39minput\u001b[39m: Tensor, target: Tensor) \u001b[39m-\u001b[39m\u001b[39m>\u001b[39m Tensor:\n\u001b[0;32m-> 1174\u001b[0m     \u001b[39mreturn\u001b[39;00m F\u001b[39m.\u001b[39;49mcross_entropy(\u001b[39minput\u001b[39;49m, target, weight\u001b[39m=\u001b[39;49m\u001b[39mself\u001b[39;49m\u001b[39m.\u001b[39;49mweight,\n\u001b[1;32m   1175\u001b[0m                            ignore_index\u001b[39m=\u001b[39;49m\u001b[39mself\u001b[39;49m\u001b[39m.\u001b[39;49mignore_index, reduction\u001b[39m=\u001b[39;49m\u001b[39mself\u001b[39;49m\u001b[39m.\u001b[39;49mreduction,\n\u001b[1;32m   1176\u001b[0m                            label_smoothing\u001b[39m=\u001b[39;49m\u001b[39mself\u001b[39;49m\u001b[39m.\u001b[39;49mlabel_smoothing)\n",
      "File \u001b[0;32m~/Data_Science/Kaggle/NLP_with_disaster_tweets/.venv/lib/python3.10/site-packages/torch/nn/functional.py:3029\u001b[0m, in \u001b[0;36mcross_entropy\u001b[0;34m(input, target, weight, size_average, ignore_index, reduce, reduction, label_smoothing)\u001b[0m\n\u001b[1;32m   3027\u001b[0m \u001b[39mif\u001b[39;00m size_average \u001b[39mis\u001b[39;00m \u001b[39mnot\u001b[39;00m \u001b[39mNone\u001b[39;00m \u001b[39mor\u001b[39;00m reduce \u001b[39mis\u001b[39;00m \u001b[39mnot\u001b[39;00m \u001b[39mNone\u001b[39;00m:\n\u001b[1;32m   3028\u001b[0m     reduction \u001b[39m=\u001b[39m _Reduction\u001b[39m.\u001b[39mlegacy_get_string(size_average, reduce)\n\u001b[0;32m-> 3029\u001b[0m \u001b[39mreturn\u001b[39;00m torch\u001b[39m.\u001b[39;49m_C\u001b[39m.\u001b[39;49m_nn\u001b[39m.\u001b[39;49mcross_entropy_loss(\u001b[39minput\u001b[39;49m, target, weight, _Reduction\u001b[39m.\u001b[39;49mget_enum(reduction), ignore_index, label_smoothing)\n",
      "\u001b[0;31mRuntimeError\u001b[0m: Expected floating point type for target with class probabilities, got Long"
     ]
    }
   ],
   "source": [
    "lossFunction = nn.CrossEntropyLoss() # loss function\n",
    "optimizer = torch.optim.Adam(params=model.parameters(), lr=LEARNING_RATE) # optimizer\n",
    "\n",
    "def train(X = x_train,Y = y_train, optimizer = optimizer, model = model, lossFn = lossFunction):\n",
    "\tpass\n",
    "\n",
    "\n",
    "#---------------------------------------------------------------\n",
    "# Experiment\n",
    "x1, y1 = get_batch()\n",
    "model(x1).shape\n",
    "# model(x1)\n",
    "yhat = model(x1)\n",
    "loss = lossFunction(yhat, y1)\n",
    "# yhat.shape\n",
    "print(f\"shape of yhat = {yhat.shape}, shape of y1 = {y1.shape}\")\n",
    "print(yhat)"
   ]
  },
  {
   "cell_type": "code",
   "execution_count": null,
   "metadata": {},
   "outputs": [
    {
     "name": "stdout",
     "output_type": "stream",
     "text": [
      "training on: cpu\n"
     ]
    },
    {
     "data": {
      "text/plain": [
       "tensor([18, 47, 56, 57, 58,  1, 15, 47, 58, 47])"
      ]
     },
     "execution_count": 23,
     "metadata": {},
     "output_type": "execute_result"
    }
   ],
   "source": [
    "\"\"\"import libraries and data\"\"\"\n",
    "# import necessary libraries\n",
    "import torch\n",
    "import torch.nn as nn\n",
    "import torch.nn.functional as F\n",
    "\n",
    "torch.manual_seed(1337)\n",
    "\n",
    "# load the data\n",
    "# path = \"datasets/tinyshakespear.txt\"\n",
    "path = \"/Users/sylvain/Data_Science/Projects/nanoGPT/datasets/tinyshakespear.txt\"\n",
    "# path = \"https://raw.githubusercontent.com/karpathy/char-rnn/master/data/tinyshakespeare/input.txt\"\n",
    "with open(file=path, mode=\"r\", encoding=\"utf-8\") as file:\n",
    "    text = file.read()\n",
    "\n",
    "# create the encoder and decoder\n",
    "chars = sorted(list(set(text)))\n",
    "vocab_size = len(chars)\n",
    "stoi = {c: i for i, c in enumerate(chars)}\n",
    "itos = {i: c for i, c in enumerate(chars)}\n",
    "encode = lambda s: [stoi[c] for c in s]\n",
    "decode = lambda s: \"\".join([itos[i] for i in s])\n",
    "decode(encode(\"salut\"))\n",
    "\n",
    "# activate GPU if available\n",
    "device = \"cpu\"\n",
    "if torch.cuda.is_available():\n",
    "    device = \"cuda\"\n",
    "# if torch.backends.mps.is_available():\n",
    "#     device = \"mps\"\n",
    "\n",
    "print(f\"training on: {device}\")\n",
    "# create the datasets\n",
    "data = torch.tensor(data=encode(text), dtype=torch.int64)\n",
    "n = int(len(data)) // 10 * 9\n",
    "train_data = data[:n]\n",
    "val_data = data[n:]\n",
    "\n",
    "train_data[:10]"
   ]
  },
  {
   "cell_type": "code",
   "execution_count": null,
   "metadata": {},
   "outputs": [],
   "source": []
  }
 ],
 "metadata": {
  "kernelspec": {
   "display_name": ".venv",
   "language": "python",
   "name": "python3"
  },
  "language_info": {
   "codemirror_mode": {
    "name": "ipython",
    "version": 3
   },
   "file_extension": ".py",
   "mimetype": "text/x-python",
   "name": "python",
   "nbconvert_exporter": "python",
   "pygments_lexer": "ipython3",
   "version": "3.10.7"
  },
  "orig_nbformat": 4
 },
 "nbformat": 4,
 "nbformat_minor": 2
}
