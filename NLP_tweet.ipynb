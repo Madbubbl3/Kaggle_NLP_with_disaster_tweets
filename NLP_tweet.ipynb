{
 "cells": [
  {
   "cell_type": "code",
   "execution_count": 92,
   "metadata": {},
   "outputs": [
    {
     "name": "stdout",
     "output_type": "stream",
     "text": [
      "2644    [119103, 120792, 121049, 121116, 120878, 11914...\n",
      "2227    [121054, 0, 0, 113082, 121106, 120761, 121052,...\n",
      "5448    [0, 0, 115796, 0, 90389, 116211, 120609, 12058...\n",
      "132     [101459, 120164, 121108, 119380, 120193, 12016...\n",
      "6845    [121088, 119913, 121108, 119541, 111616, 12111...\n",
      "Name: text, dtype: object\n"
     ]
    }
   ],
   "source": [
    "import torch\n",
    "import torchtext\n",
    "from torchtext.data import get_tokenizer\n",
    "import pandas as pd\n",
    "\n",
    "# Global variable\n",
    "DEVICE = torch.device(\"cuda\") if torch.cuda.is_available() else \"cpu\"\n",
    "BLOCK_SIZE = 75 # max size of a tokenized tweets for train and test = 74\n",
    "WTOI = {} # Words to integer: will be filled up later\n",
    "TOKENIZER = get_tokenizer(\"basic_english\")\n",
    "\n",
    "# load the dataset\n",
    "path_train = \"datasets/train.csv\"\n",
    "path_test = \"datasets/test.csv\"\n",
    "df_train = pd.read_csv(filepath_or_buffer=path_train)\n",
    "df_test = pd.read_csv(filepath_or_buffer=path_test)\n",
    "df_train = df_train.sample(frac=1, random_state=42) # suffle the train datasets before creating a dev subset\n",
    "train_tweets = df_train[\"text\"]\n",
    "test_tweets = df_test[\"text\"]\n",
    "first_tweet = train_tweets[0] # for experimentation, can be deleted later TODO\n",
    "\n",
    "\n",
    "def tweetTokeniser(tweets, tokenizer=TOKENIZER):\n",
    "\t'''create a list of tokens from a tweet'''\n",
    "\ttokens = [] \n",
    "\tfor tweet in tweets:\n",
    "\t\ttokens += tokenizer(tweet)\n",
    "\treturn tokens\n",
    "\n",
    "\n",
    "def createEncodingDictionary(tweets=train_tweets):\n",
    "\t'''create a dictionary of all the tokens appearing at least two times in the tweets'''\n",
    "\ttokens = tweetTokeniser(tweets)\n",
    "\twtoi, buffer = {}, {}\n",
    "\tidx = 2\n",
    "\tfor i, w in enumerate(tokens):\n",
    "\t\tif w in buffer:\n",
    "\t\t\twtoi[w] = idx\n",
    "\t\t\tidx += 1\n",
    "\t\telse:\n",
    "\t\t\tbuffer[w] = 1\n",
    "\twtoi[\"UNKNOWN\"] = 0 # to deal with words not seen in train set\n",
    "\twtoi[\"EMPTY\"] = 1 # to make all train_tweets the same length\n",
    "\treturn wtoi\n",
    "\n",
    "WTOI = createEncodingDictionary(tweets=train_tweets) # update the dictionary\n",
    "\n",
    "def tweetEncoder(tweet:list, wtoi=WTOI):\n",
    "\t'''helper function to tansform each token in a tweet to a unique integer'''\n",
    "\ttokens = tweetTokeniser([tweet])\n",
    "\tfor i in range(len(tokens)):\n",
    "\t\ttokens[i] = wtoi[tokens[i]] if tokens[i] in wtoi else 0\n",
    "\treturn tokens\n",
    "\n",
    "# create a pandas serie with these encoding for each tweet\n",
    "x_train = train_tweets.apply(lambda tweet: tweetEncoder(tweet))\n",
    "y_train = df_train[\"target\"]\n",
    "x_test = test_tweets.apply((lambda tweet:tweetEncoder(tweet)))\n",
    "y_test = []\n",
    "print(x_train.head())\n",
    "\n",
    "# standardize the length of a tweet\n",
    "def standardizeBlockSize(block_size = BLOCK_SIZE, x_train = x_train, x_test = x_test):\n",
    "\tfor tweet in x_train:\n",
    "\t\tdelta = block_size - len(tweet)\n",
    "\t\ttail = [1]*delta\n",
    "\t\ttweet += tail\n",
    "\t\n",
    "\tfor tweet in x_test:\n",
    "\t\tdelta = block_size - len(tweet)\n",
    "\t\ttail = [1]*delta\n",
    "\t\ttweet += tail\n",
    "\n",
    "\treturn x_train, x_test\n",
    "\n",
    "def trainAndDevDatasets(x=x_train, y=y_train, train_size = 0.85):\n",
    "\tl = len(x)\n",
    "\tn = int(l*train_size)\n",
    "\tx_train, x_dev, y_train, y_dev = x[:n], x[n:], y[:n], y[n:]\n",
    "\treturn x_train, x_dev, y_train, y_dev\n",
    "\n",
    "x, x_test = standardizeBlockSize()\n",
    "x_train, x_dev, y_train, y_dev = trainAndDevDatasets(x=x, train_size=0.85)"
   ]
  },
  {
   "cell_type": "code",
   "execution_count": 93,
   "metadata": {},
   "outputs": [
    {
     "name": "stdout",
     "output_type": "stream",
     "text": [
      "[120174, 75223, 121037, 121054, 120528, 121118, 121062, 105026, 119115, 90810, 111025, 119937, 121053, 1, 1, 1, 1, 1, 1, 1, 1, 1, 1, 1, 1, 1, 1, 1, 1, 1, 1, 1, 1, 1, 1, 1, 1, 1, 1, 1, 1, 1, 1, 1, 1, 1, 1, 1, 1, 1, 1, 1, 1, 1, 1, 1, 1, 1, 1, 1, 1, 1, 1, 1, 1, 1, 1, 1, 1, 1, 1, 1, 1, 1, 1]\n",
      "Our Deeds are the Reason of this #earthquake May ALLAH Forgive us all\n",
      "['our', 'deeds', 'are', 'the', 'reason', 'of', 'this', '#earthquake', 'may', 'allah', 'forgive', 'us', 'all']\n",
      "120174\n"
     ]
    }
   ],
   "source": [
    "print(x_train[0])\n",
    "print(first_tweet)\n",
    "first_tweet_tokens = tweetTokeniser(tweets=[first_tweet])\n",
    "print(first_tweet_tokens)\n",
    "print(WTOI[first_tweet_tokens[0]])"
   ]
  },
  {
   "cell_type": "code",
   "execution_count": null,
   "metadata": {},
   "outputs": [],
   "source": []
  }
 ],
 "metadata": {
  "kernelspec": {
   "display_name": ".venv",
   "language": "python",
   "name": "python3"
  },
  "language_info": {
   "codemirror_mode": {
    "name": "ipython",
    "version": 3
   },
   "file_extension": ".py",
   "mimetype": "text/x-python",
   "name": "python",
   "nbconvert_exporter": "python",
   "pygments_lexer": "ipython3",
   "version": "3.10.7"
  },
  "orig_nbformat": 4
 },
 "nbformat": 4,
 "nbformat_minor": 2
}
