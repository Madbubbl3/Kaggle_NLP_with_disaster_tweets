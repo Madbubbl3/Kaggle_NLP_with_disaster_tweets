{
 "cells": [
  {
   "cell_type": "markdown",
   "metadata": {},
   "source": [
    "# NLP with disaster tweets - Kaggle competition"
   ]
  },
  {
   "cell_type": "markdown",
   "metadata": {},
   "source": [
    "## Prepare the data"
   ]
  },
  {
   "cell_type": "code",
   "execution_count": 511,
   "metadata": {},
   "outputs": [],
   "source": [
    "import torch\n",
    "import torch.nn as nn \n",
    "import torch.nn.functional as F\n",
    "from torchtext.data import get_tokenizer\n",
    "import pandas as pd\n",
    "\n",
    "# Global variable\n",
    "DEVICE = torch.device(\"cuda\") if torch.cuda.is_available() else \"cpu\"\n",
    "TOKENIZER = get_tokenizer(\"basic_english\")\n",
    "WTOI = {} # Words to integer: will be filled up later\n",
    "VOCAB_SIZE = 0\n",
    "BLOCK_SIZE = 75 # max size of a tokenized tweets for train and test = 74\n",
    "BATCH_SIZE = 300\n",
    "N_EMBD = 32\n",
    "LEARNING_RATE = 1e-3\n",
    "EPOCHS = 30\n",
    "NUM_NEURONS = 64\n",
    "TRAIN_SIZE = 1\n",
    "\n",
    "# load the dataset\n",
    "path_train = \"datasets/train.csv\"\n",
    "path_test = \"datasets/test.csv\"\n",
    "df_train = pd.read_csv(filepath_or_buffer=path_train)\n",
    "df_test = pd.read_csv(filepath_or_buffer=path_test)\n",
    "df_train = df_train.sample(frac=1, random_state=42) # suffle the train datasets before creating a dev subset\n",
    "train_tweets = df_train[\"text\"]\n",
    "test_tweets = df_test[\"text\"]\n",
    "first_tweet = train_tweets[0] # for experimentation, can be deleted later TODO\n",
    "\n",
    "\n",
    "def tweetTokeniser(tweets, tokenizer=TOKENIZER):\n",
    "\t'''create a list of tokens from a tweet'''\n",
    "\ttokens = [] \n",
    "\tfor tweet in tweets:\n",
    "\t\ttokens += tokenizer(tweet)\n",
    "\treturn tokens\n",
    "\n",
    "\n",
    "def createEncodingDictionary(tweets=train_tweets):\n",
    "\t'''create a dictionary of all the tokens appearing at least two times in the tweets'''\n",
    "\ttokens = tweetTokeniser(tweets)\n",
    "\twtoi, buffer = {}, {}\n",
    "\tidx = 2\n",
    "\tfor i, w in enumerate(tokens):\n",
    "\t\tif w in buffer and w not in wtoi:\n",
    "\t\t\twtoi[w] = idx\n",
    "\t\t\tidx += 1\n",
    "\t\telse:\n",
    "\t\t\tbuffer[w] = 1\n",
    "\twtoi[\"UNKNOWN\"] = 0 # to deal with words not seen in train set\n",
    "\twtoi[\"EMPTY\"] = 1 # to make all train_tweets the same length\n",
    "\t\n",
    "\treturn wtoi, idx\n",
    "\n",
    "WTOI, VOCAB_SIZE = createEncodingDictionary(tweets=train_tweets) # update the dictionary\n",
    "\n",
    "def tweetEncoder(tweet:list, wtoi=WTOI):\n",
    "\t'''helper function to tansform each token in a tweet to a unique integer'''\n",
    "\ttokens = tweetTokeniser([tweet])\n",
    "\tfor i in range(len(tokens)):\n",
    "\t\ttokens[i] = wtoi[tokens[i]] if tokens[i] in wtoi else 0\n",
    "\treturn tokens\n",
    "\n",
    "# create a pandas serie with these encoding for each tweet\n",
    "x_train = train_tweets.apply(lambda tweet: tweetEncoder(tweet))\n",
    "y_train = df_train[\"target\"]\n",
    "x_test = test_tweets.apply((lambda tweet:tweetEncoder(tweet)))\n",
    "y_test = []\n",
    "\n",
    "# standardize the length of a tweet\n",
    "def standardizeBlockSize(block_size = BLOCK_SIZE, x_train = x_train, x_test = x_test):\n",
    "\tfor tweet in x_train:\n",
    "\t\tdelta = block_size - len(tweet)\n",
    "\t\ttail = [1]*delta\n",
    "\t\ttweet += tail\n",
    "\t\n",
    "\tfor tweet in x_test:\n",
    "\t\tdelta = block_size - len(tweet)\n",
    "\t\ttail = [1]*delta\n",
    "\t\ttweet += tail\n",
    "\n",
    "\treturn x_train, x_test\n",
    "\n",
    "def trainAndDevDatasets(x=x_train, y=y_train, train_size = TRAIN_SIZE):\n",
    "\tl = len(x)\n",
    "\tn = int(l*train_size)\n",
    "\tx_train, x_dev, y_train, y_dev = x[:n], x[n:], y[:n], y[n:]\n",
    "\treturn x_train, x_dev, y_train, y_dev\n",
    "\n",
    "x, x_test = standardizeBlockSize()\n",
    "x_train, x_dev, y_train, y_dev = trainAndDevDatasets(x=x, train_size=TRAIN_SIZE)\n",
    "\n",
    "# cast to tensor\n",
    "make_long_tensor = lambda x: torch.tensor(data=list(x.values), dtype=torch.long)\n",
    "make_float_tensor = lambda x: torch.tensor(data=list(x.values), dtype=torch.float32)\n",
    "x_train = make_long_tensor(x_train)\n",
    "y_train = make_float_tensor(y_train)\n",
    "x_dev = make_long_tensor(x_dev)\n",
    "y_dev = make_float_tensor(y_dev)\n",
    "x_test = make_long_tensor(x_test)\n"
   ]
  },
  {
   "cell_type": "markdown",
   "metadata": {},
   "source": [
    "## Helper functions"
   ]
  },
  {
   "cell_type": "code",
   "execution_count": 512,
   "metadata": {},
   "outputs": [],
   "source": [
    "def get_batch(mode=\"train\"):\n",
    "    '''Return input and target tensor of size BATCH_SIZE'''\n",
    "    if mode == \"train\":\n",
    "        x, y = x_train, y_train\n",
    "    else:\n",
    "        x, y = x_dev, y_dev\n",
    "    l = len(x)\n",
    "    ix = torch.randint(high=l, size=(BATCH_SIZE,))\n",
    "    return x[ix], y[ix]\n",
    "\n",
    "@torch.no_grad()\n",
    "def estimateLoss(model):\n",
    "    '''Evaluate the loss of the model on the train set and on the dev set'''\n",
    "    out = {}\n",
    "    model.eval()\n",
    "    # TODO write eval function here (depends on the configuration of the model)\n",
    "    model.train()\n",
    "    return out\n",
    "\n"
   ]
  },
  {
   "cell_type": "markdown",
   "metadata": {},
   "source": [
    "## Define the model"
   ]
  },
  {
   "cell_type": "code",
   "execution_count": 513,
   "metadata": {},
   "outputs": [],
   "source": [
    "# class Head(nn.Module()):\n",
    "#    '''single head of attention'''\n",
    "\n",
    "class MLP(nn.Module):\n",
    "\t'''A simple MLP, to be used as a baseline'''\n",
    "\tdef __init__(self, numNeurons=NUM_NEURONS) -> None:\n",
    "\t\tsuper().__init__()\n",
    "\t\tself.tokenEmbedding = nn.Embedding(num_embeddings=VOCAB_SIZE, embedding_dim=N_EMBD)\n",
    "\t\tself.linear1 = nn.Linear(in_features=N_EMBD, out_features=numNeurons, bias=True)\n",
    "\t\tself.batchNorm1 = nn.LayerNorm(normalized_shape=numNeurons)\n",
    "\t\tself.linear2 = nn.Linear(in_features=numNeurons, out_features=numNeurons, bias=True)\n",
    "\t\tself.batchNorm2 = nn.LayerNorm(normalized_shape=numNeurons)\n",
    "\t\tself.linear3 = nn.Linear(in_features=numNeurons, out_features=1, bias=True)\n",
    "\t\tself.logits = nn.Linear(in_features=BLOCK_SIZE, out_features=1, bias=True)\n",
    "\t\n",
    "\tdef forward(self, x):\n",
    "\t\t# x = self.posEmbedding(x) + self.posEmbedding(x)\n",
    "\t\t# B, C = x.shape\n",
    "\t\tx = self.tokenEmbedding(x)\n",
    "\t\tx = self.linear1(x)\n",
    "\t\tx = self.batchNorm1(x)\n",
    "\t\tx = F.relu(x)\n",
    "\t\tx = self.linear2(x)\n",
    "\t\tx = self.batchNorm2(x)\n",
    "\t\tx = F.relu(x)\n",
    "\t\tx = self.linear3(x)\n",
    "\t\tx = F.relu(x)\n",
    "\t\tx = x.view(-1, BLOCK_SIZE)\n",
    "\t\tx = self.logits(x).view(-1)\n",
    "\t\tx = torch.sigmoid(x)\n",
    "\t\t\n",
    "\t\treturn x\n",
    "\n",
    "# instanciate the model\n",
    "model = MLP().to(device=DEVICE)\n"
   ]
  },
  {
   "cell_type": "markdown",
   "metadata": {},
   "source": [
    "## Define the loss function and the optimizer"
   ]
  },
  {
   "cell_type": "code",
   "execution_count": 514,
   "metadata": {},
   "outputs": [],
   "source": [
    "lossFunction = nn.CrossEntropyLoss() # loss function\n",
    "optimizer = torch.optim.Adam(params=model.parameters(), lr=LEARNING_RATE) # optimizer\n",
    "\n",
    "def train(model = model, lossFn = lossFunction, optimizer = optimizer):\n",
    "\tmodel.train()\n",
    "\tsteps = len(x_train)//BATCH_SIZE\n",
    "\trunning_loss = 0\n",
    "\tfor epoch in range(EPOCHS):\n",
    "\t\tfor step in range(steps):\n",
    "\t\t\tX, Y = get_batch(\"train\")\n",
    "\t\t\tyhat = model(X) # make a prediction\n",
    "\t\t\tloss = lossFn(yhat, Y) # compute the error\n",
    "\t\t\trunning_loss += loss.item()\n",
    "\t\t\tloss.backward() # backpropagation\n",
    "\t\t\toptimizer.step() # performe one step of optimisation\n",
    "\t\t\toptimizer.zero_grad() # gradient to zero\n",
    "\t\t# print(f\"Epoch: {epoch}, runing loss = {running_loss/(steps*BATCH_SIZE)}\") if epoch%5==0 else None\n",
    "\t\trunning_loss = 0\n",
    "\tmodel.eval()\n",
    "\n",
    "\n",
    "def test(mode, model = model, lossFn = lossFunction):\n",
    "\t'''Test the accuracy of the model either on the train set or on the dev set'''\n",
    "\tX, Y = (x_train, y_train) if mode == \"train\" else (x_dev, y_dev)\n",
    "\tmodel.eval()\t\n",
    "\tsteps = len(X)//BATCH_SIZE\n",
    "\ttest_loss, correct = 0,0\n",
    "\twith torch.no_grad():\n",
    "\t\tfor step in range(steps):\n",
    "\t\t\txi, yi = get_batch(mode)\n",
    "\t\t\tyhat = model(xi)\n",
    "\t\t\ttest_loss += lossFn(yhat, yi).item()\n",
    "\t\t\tcorrect += (yhat.round() == yi).type(torch.float).sum().item()\n",
    "\ttest_loss /= (steps*BATCH_SIZE)\n",
    "\tcorrect /= (steps*BATCH_SIZE)\n",
    "\tprint(f\"After {EPOCHS} epochs, {mode} loss = {test_loss}, correct answer = {(100*correct):>0.1f}%\")\n"
   ]
  },
  {
   "cell_type": "markdown",
   "metadata": {},
   "source": [
    "## Train and test the performance of the model"
   ]
  },
  {
   "cell_type": "code",
   "execution_count": 516,
   "metadata": {},
   "outputs": [
    {
     "name": "stdout",
     "output_type": "stream",
     "text": [
      "After 30 epochs, train loss = 2.3912443359375, correct answer = 86.4%\n"
     ]
    }
   ],
   "source": [
    "train()\n",
    "test(mode=\"train\")\n",
    "# test(mode=\"dev\")"
   ]
  },
  {
   "cell_type": "markdown",
   "metadata": {},
   "source": [
    "Log:<br>\n",
    "After 30 epochs, train loss = 2.2859191507006447, correct answer = 88.8%<br>\n",
    "After 30 epochs, dev loss = 2.424016791449653, correct answer = 77.1%"
   ]
  },
  {
   "cell_type": "markdown",
   "metadata": {},
   "source": [
    "## Prediction & Submission"
   ]
  },
  {
   "cell_type": "code",
   "execution_count": 537,
   "metadata": {},
   "outputs": [],
   "source": [
    "pred = model(x_test).round().to(torch.long)\n",
    "result = pred.detach().numpy()\n",
    "df_test[\"target\"] = result\n",
    "path = \"results/submission.csv\"\n",
    "df_test[[\"id\", \"target\"]].to_csv(path_or_buf=path, index=False)"
   ]
  },
  {
   "cell_type": "code",
   "execution_count": null,
   "metadata": {},
   "outputs": [],
   "source": []
  }
 ],
 "metadata": {
  "kernelspec": {
   "display_name": ".venv",
   "language": "python",
   "name": "python3"
  },
  "language_info": {
   "codemirror_mode": {
    "name": "ipython",
    "version": 3
   },
   "file_extension": ".py",
   "mimetype": "text/x-python",
   "name": "python",
   "nbconvert_exporter": "python",
   "pygments_lexer": "ipython3",
   "version": "3.10.7"
  },
  "orig_nbformat": 4
 },
 "nbformat": 4,
 "nbformat_minor": 2
}
